{
 "cells": [
  {
   "cell_type": "markdown",
   "metadata": {
    "id": "r5aKEPtra-_6"
   },
   "source": [
    "<img align=\"right\" style=\"max-width: 200px; height: auto\" src=\"https://github.com/HSG-AIML/LabAIML/blob/main/challenge/hsg_logo.png?raw=1\">\n",
    "\n",
    "###  AI:ML Mini Project Coding Challenge - \"Tiny ImageNet Visual Classification\"\n",
    "\n",
    "Introduction to ML and DL, University of St. Gallen, Fall Term 2021"
   ]
  },
  {
   "cell_type": "markdown",
   "metadata": {
    "id": "g3AqLZSQa_AK"
   },
   "source": [
    "This is a helper notebook of the AI:ML Coding Challenge to load and inspect the **Stanford CS231N Tiny ImageNet** dataset of the coding challenge. Further details on the dataset, such as dataset statistics, label information etc., can be obtained via the following url: https://tiny-imagenet.herokuapp.com."
   ]
  },
  {
   "cell_type": "markdown",
   "metadata": {
    "id": "y5Gz2dOYa_AT"
   },
   "source": [
    "Let's import a couple of necessary libraries:"
   ]
  },
  {
   "cell_type": "code",
   "execution_count": null,
   "metadata": {
    "id": "Tnmi223ua_Aa"
   },
   "outputs": [],
   "source": [
    "import torchvision"
   ]
  },
  {
   "cell_type": "markdown",
   "metadata": {
    "id": "1uDIe9tBa_Aj"
   },
   "source": [
    "Enable inline plotting:"
   ]
  },
  {
   "cell_type": "code",
   "execution_count": null,
   "metadata": {
    "id": "xOGp1kdza_Ao"
   },
   "outputs": [],
   "source": [
    "%matplotlib inline"
   ]
  },
  {
   "cell_type": "markdown",
   "metadata": {
    "id": "rKN5nBDba_Aw"
   },
   "source": [
    "## 0. Using your Google Drive\n",
    "\n",
    "If you are using Google Colab (which we highly recommend), you can connect your Google Drive to your Colab runtime environment, thus providing a way to save your notebooks and data permanently:"
   ]
  },
  {
   "cell_type": "code",
   "execution_count": null,
   "metadata": {
    "colab": {
     "base_uri": "https://localhost:8080/"
    },
    "id": "vteJ3zlBa_A1",
    "outputId": "5e6d04e0-d743-45b0-fc6c-1afd2acc8af7"
   },
   "outputs": [],
   "source": [
    "import os\n",
    "#from google.colab import drive\n",
    "#drive.mount('/content/drive')\n",
    "#os.chdir('/content/drive/MyDrive/Colab Notebooks/')"
   ]
  },
  {
   "cell_type": "markdown",
   "metadata": {
    "id": "uv7LWyxBa_A-"
   },
   "source": [
    "###  A. Load the Train Image Data as Plain JPEG"
   ]
  },
  {
   "cell_type": "markdown",
   "metadata": {
    "id": "DmbfJOMga_BH"
   },
   "source": [
    "Load the training images of the Tiny ImageNet dataset:"
   ]
  },
  {
   "cell_type": "code",
   "execution_count": null,
   "metadata": {
    "colab": {
     "base_uri": "https://localhost:8080/"
    },
    "id": "mgi3oKsha_BN",
    "outputId": "8bbc331e-bb55-4ab7-830f-05136685d5f1"
   },
   "outputs": [],
   "source": [
    "# download image data (uncomment to run if necessary)\n",
    "#!wget http://cs231n.stanford.edu/tiny-imagenet-200.zip\n",
    "#!unzip -q tiny-imagenet-200.zip && ls tiny-imagenet-200\n",
    "\n",
    "# define the directory of the tiny imagenet training images\n",
    "train_images_dir = './tiny-imagenet-200/train'\n",
    "\n",
    "# load the tiny imagenet training images\n",
    "train_dataset = torchvision.datasets.ImageFolder(train_images_dir)"
   ]
  },
  {
   "cell_type": "markdown",
   "metadata": {
    "id": "n7uDm5Kva_BU"
   },
   "source": [
    "Determine the details and shape of the training data:"
   ]
  },
  {
   "cell_type": "code",
   "execution_count": null,
   "metadata": {
    "colab": {
     "base_uri": "https://localhost:8080/"
    },
    "id": "ghD7xQoNa_Ba",
    "outputId": "25c228ea-b689-4a3f-c48f-24bca07ec4f5"
   },
   "outputs": [],
   "source": [
    "# show train dataset details\n",
    "train_dataset"
   ]
  },
  {
   "cell_type": "markdown",
   "metadata": {
    "id": "unXY7XAza_Bf"
   },
   "source": [
    "Inspect the content and the label of a random image id: "
   ]
  },
  {
   "cell_type": "code",
   "execution_count": null,
   "metadata": {
    "id": "7HZDko2Ta_Bj"
   },
   "outputs": [],
   "source": [
    "# set random image id\n",
    "image_id = 100\n",
    "\n",
    "# determine image content and label\n",
    "train_image_content, train_image_label = train_dataset[image_id]"
   ]
  },
  {
   "cell_type": "markdown",
   "metadata": {
    "id": "K-5yus_Aa_Bn"
   },
   "source": [
    "Plot the image content:"
   ]
  },
  {
   "cell_type": "code",
   "execution_count": null,
   "metadata": {
    "colab": {
     "base_uri": "https://localhost:8080/",
     "height": 81
    },
    "id": "uNJdLeXja_Bs",
    "outputId": "7c71c077-82f8-4064-9255-66aa4a624f82"
   },
   "outputs": [],
   "source": [
    "train_image_content"
   ]
  },
  {
   "cell_type": "markdown",
   "metadata": {
    "id": "WKoo-Tuga_Bz"
   },
   "source": [
    "Show the corresponding image label:"
   ]
  },
  {
   "cell_type": "code",
   "execution_count": null,
   "metadata": {
    "colab": {
     "base_uri": "https://localhost:8080/"
    },
    "id": "PR1VYwmga_B2",
    "outputId": "bad0a34d-dbfd-44f9-b668-cb1237b7c063"
   },
   "outputs": [],
   "source": [
    "train_image_label"
   ]
  },
  {
   "cell_type": "markdown",
   "metadata": {
    "id": "mABNx1eGa_B5"
   },
   "source": [
    "###  B. Load the Train Image Data as 3D-Tensor"
   ]
  },
  {
   "cell_type": "markdown",
   "metadata": {
    "id": "fuZZkgFoa_B9"
   },
   "source": [
    "Define image to tensor transformation:"
   ]
  },
  {
   "cell_type": "code",
   "execution_count": null,
   "metadata": {
    "id": "glFs9fQya_CA"
   },
   "outputs": [],
   "source": [
    "data_transformation = torchvision.transforms.Compose([torchvision.transforms.ToTensor()])"
   ]
  },
  {
   "cell_type": "markdown",
   "metadata": {
    "id": "ZSrlwnEba_CE"
   },
   "source": [
    "Load the training images of the Tiny ImageNet dataset:"
   ]
  },
  {
   "cell_type": "code",
   "execution_count": null,
   "metadata": {
    "id": "sJs0VW28a_CI"
   },
   "outputs": [],
   "source": [
    "# define the directory of the tiny imagenet training images\n",
    "train_images_dir = './tiny-imagenet-200/train'\n",
    "\n",
    "# load the tiny imagenet training images\n",
    "train_dataset_tensor = torchvision.datasets.ImageFolder(train_images_dir, transform=data_transformation)"
   ]
  },
  {
   "cell_type": "markdown",
   "metadata": {
    "id": "jG9cmEAaa_CM"
   },
   "source": [
    "Determine the details and shape of the tensor training data:"
   ]
  },
  {
   "cell_type": "code",
   "execution_count": null,
   "metadata": {
    "colab": {
     "base_uri": "https://localhost:8080/"
    },
    "id": "XAWncEQza_CP",
    "outputId": "00aa9a48-d882-4f4a-e029-a2d5ca771eaa"
   },
   "outputs": [],
   "source": [
    "# show train dataset details\n",
    "train_dataset_tensor"
   ]
  },
  {
   "cell_type": "markdown",
   "metadata": {
    "id": "dwWIGttVa_CU"
   },
   "source": [
    "Inspect the content and the label of a random image id: "
   ]
  },
  {
   "cell_type": "code",
   "execution_count": null,
   "metadata": {
    "id": "0eEF-JEOa_CX"
   },
   "outputs": [],
   "source": [
    "# set random image id\n",
    "image_id = 100\n",
    "\n",
    "# determine image content and label\n",
    "train_image_content, train_image_label = train_dataset_tensor[image_id]"
   ]
  },
  {
   "cell_type": "markdown",
   "metadata": {
    "id": "m0tMq4woa_Cb"
   },
   "source": [
    "Reminder how image data is stored in Python:"
   ]
  },
  {
   "cell_type": "markdown",
   "metadata": {
    "id": "fiO_NHjma_Cd"
   },
   "source": [
    "<img align=\"center\" style=\"max-width: 800px; height: auto\" src=\"https://github.com/HSG-AIML/LabAIML/blob/main/challenge/python_image_processing.png?raw=1\">"
   ]
  },
  {
   "cell_type": "markdown",
   "metadata": {
    "id": "PTmi2ul5a_Cg"
   },
   "source": [
    "Plot the image content:"
   ]
  },
  {
   "cell_type": "code",
   "execution_count": null,
   "metadata": {
    "colab": {
     "base_uri": "https://localhost:8080/"
    },
    "id": "jk3g1eGqa_Cj",
    "outputId": "5270227a-d04e-4fb4-9d65-7b43e00959a5"
   },
   "outputs": [],
   "source": [
    "train_image_content"
   ]
  },
  {
   "cell_type": "markdown",
   "metadata": {
    "id": "pEIX4WBBa_Cm"
   },
   "source": [
    "Plot the image shape:"
   ]
  },
  {
   "cell_type": "code",
   "execution_count": null,
   "metadata": {
    "colab": {
     "base_uri": "https://localhost:8080/"
    },
    "id": "FsT3yhATa_Cp",
    "outputId": "774b8fc0-b6c9-4e27-bfbd-a534f4dd645e"
   },
   "outputs": [],
   "source": [
    "train_image_content.shape"
   ]
  },
  {
   "cell_type": "markdown",
   "metadata": {
    "id": "25ChhDawa_Ct"
   },
   "source": [
    "Show the corresponding image label:"
   ]
  },
  {
   "cell_type": "code",
   "execution_count": null,
   "metadata": {
    "colab": {
     "base_uri": "https://localhost:8080/"
    },
    "id": "QHUwFgGqa_Cx",
    "outputId": "ebe4df22-9aff-4f5b-f7b6-cd2c21a468f4"
   },
   "outputs": [],
   "source": [
    "train_image_label"
   ]
  },
  {
   "cell_type": "markdown",
   "metadata": {
    "id": "0N8HxHnta_C1"
   },
   "source": [
    "Determine image class to label mapping:"
   ]
  },
  {
   "cell_type": "code",
   "execution_count": null,
   "metadata": {
    "id": "ljtUvKOra_C3"
   },
   "outputs": [],
   "source": [
    "class_to_label_mapping = train_dataset_tensor.class_to_idx"
   ]
  },
  {
   "cell_type": "markdown",
   "metadata": {
    "id": "UXsG00fva_C5"
   },
   "source": [
    "Show image label to folder (class) mapping:"
   ]
  },
  {
   "cell_type": "code",
   "execution_count": null,
   "metadata": {
    "colab": {
     "base_uri": "https://localhost:8080/"
    },
    "id": "NExFuRwpa_C8",
    "outputId": "7d1bd160-7479-49d1-d690-a27a05967842"
   },
   "outputs": [],
   "source": [
    "class_to_label_mapping"
   ]
  },
  {
   "cell_type": "markdown",
   "metadata": {
    "id": "Htgwe4R8a_DA"
   },
   "source": [
    "###  C. Load the Validation Image Data as 3D-Tensor"
   ]
  },
  {
   "cell_type": "markdown",
   "metadata": {
    "id": "ES-scI5ea_DE"
   },
   "source": [
    "Define image to tensor transformation:"
   ]
  },
  {
   "cell_type": "code",
   "execution_count": null,
   "metadata": {
    "id": "r5XLElJAa_DI"
   },
   "outputs": [],
   "source": [
    "data_transformation = torchvision.transforms.Compose([torchvision.transforms.ToTensor()])"
   ]
  },
  {
   "cell_type": "markdown",
   "metadata": {
    "id": "cAdK88Dda_DM"
   },
   "source": [
    "Load the validation images of the Tiny ImageNet dataset:"
   ]
  },
  {
   "cell_type": "code",
   "execution_count": null,
   "metadata": {
    "colab": {
     "base_uri": "https://localhost:8080/",
     "height": 349
    },
    "id": "rT5TsHdya_DP",
    "outputId": "b9dc277a-a93e-4fab-d03b-a6c4eb31adc6"
   },
   "outputs": [],
   "source": [
    "# define the directory of the tiny imagenet validation images\n",
    "validation_images_dir = './tiny-imagenet-200/val'\n",
    "\n",
    "# load the tiny imagenet validation images\n",
    "validation_dataset_tensor = torchvision.datasets.ImageFolder(validation_images_dir, transform=data_transformation)"
   ]
  },
  {
   "cell_type": "markdown",
   "metadata": {
    "id": "VFX13T3oa_DT"
   },
   "source": [
    "Determine the details and shape of the tensor validation data:"
   ]
  },
  {
   "cell_type": "code",
   "execution_count": null,
   "metadata": {
    "id": "ex0OAX46a_DX"
   },
   "outputs": [],
   "source": [
    "# show validation dataset details\n",
    "validation_dataset_tensor"
   ]
  },
  {
   "cell_type": "markdown",
   "metadata": {
    "id": "V0QTLUBJa_Db"
   },
   "source": [
    "Inspect the content and the label of a random image id: "
   ]
  },
  {
   "cell_type": "code",
   "execution_count": null,
   "metadata": {
    "id": "fGi4bMcma_Df"
   },
   "outputs": [],
   "source": [
    "# set random image id\n",
    "image_id = 100\n",
    "\n",
    "# determine image content and label\n",
    "validation_image_content, validation_image_label = validation_dataset_tensor[image_id]"
   ]
  },
  {
   "cell_type": "markdown",
   "metadata": {
    "id": "OxDpIhsha_Dk"
   },
   "source": [
    "Plot the image content:"
   ]
  },
  {
   "cell_type": "code",
   "execution_count": null,
   "metadata": {
    "id": "Tg1DNv8-a_Dq"
   },
   "outputs": [],
   "source": [
    "validation_image_content"
   ]
  },
  {
   "cell_type": "markdown",
   "metadata": {
    "id": "fYQZakxia_Ds"
   },
   "source": [
    "Plot the image shape:"
   ]
  },
  {
   "cell_type": "code",
   "execution_count": null,
   "metadata": {
    "id": "NV6440vba_Dw"
   },
   "outputs": [],
   "source": [
    "validation_image_content.shape"
   ]
  },
  {
   "cell_type": "markdown",
   "metadata": {
    "id": "Iq1PK8cEa_Dz"
   },
   "source": [
    "Show the corresponding image label:"
   ]
  },
  {
   "cell_type": "code",
   "execution_count": null,
   "metadata": {
    "id": "OzrKKFBNa_D2"
   },
   "outputs": [],
   "source": [
    "validation_image_label"
   ]
  },
  {
   "cell_type": "markdown",
   "metadata": {
    "id": "vA9nSY1sa_D4"
   },
   "source": [
    "###  D. Annotate the Validation Image Data"
   ]
  },
  {
   "cell_type": "markdown",
   "metadata": {
    "id": "VVWI414Ka_D7"
   },
   "source": [
    "Read the validation dataset annotation file and parse class labels:"
   ]
  },
  {
   "cell_type": "code",
   "execution_count": null,
   "metadata": {
    "id": "lLuAoeDNa_D_"
   },
   "outputs": [],
   "source": [
    "# init the validation labels\n",
    "validation_labels = []\n",
    "\n",
    "# open the validation label file\n",
    "with open('./tiny-imagenet-200/val/val_annotations.txt', 'r') as fp:\n",
    "    \n",
    "    # iterate over each line in validation label file\n",
    "    for line in fp.readlines():\n",
    "        \n",
    "        # split each line into terms \n",
    "        terms = line.split('\\t')\n",
    "        \n",
    "        # obtain the file name and label text\n",
    "        file_name, label_text = terms[0], terms[1]\n",
    "        \n",
    "        # convert class to label\n",
    "        validation_labels.append(class_to_label_mapping[label_text])"
   ]
  },
  {
   "cell_type": "markdown",
   "metadata": {
    "id": "HK9PWS6qa_ED"
   },
   "source": [
    "Show parsed validation dataset label annotations:"
   ]
  },
  {
   "cell_type": "code",
   "execution_count": null,
   "metadata": {
    "id": "hFOMcHM2a_EG"
   },
   "outputs": [],
   "source": [
    "validation_labels"
   ]
  },
  {
   "cell_type": "markdown",
   "metadata": {
    "id": "UMy6UYUEa_EI"
   },
   "source": [
    "Reset labels of validation dataset: "
   ]
  },
  {
   "cell_type": "code",
   "execution_count": null,
   "metadata": {
    "id": "SCDLw47ga_EL"
   },
   "outputs": [],
   "source": [
    "# iterate over validation images\n",
    "for i in range(0, len(validation_dataset_tensor)):\n",
    "    \n",
    "    # convert image-label pair to list\n",
    "    validation_dataset_tensor_list = list(validation_dataset_tensor.imgs[i])\n",
    "    \n",
    "    # reset label to \"true\" validation labels\n",
    "    validation_dataset_tensor_list[1] = validation_labels[i]\n",
    "    \n",
    "    # re-convert image-label pair to tupel\n",
    "    validation_dataset_tensor.imgs[i] = tuple(validation_dataset_tensor_list)"
   ]
  },
  {
   "cell_type": "markdown",
   "metadata": {
    "id": "-NvtybjIa_EP"
   },
   "source": [
    "Inspect the content and the label of a random validation image id: "
   ]
  },
  {
   "cell_type": "code",
   "execution_count": null,
   "metadata": {
    "id": "hHgRRbXea_ET"
   },
   "outputs": [],
   "source": [
    "# set random image id\n",
    "image_id = 100\n",
    "\n",
    "# determine image content and label\n",
    "validation_image_content, validation_image_label = validation_dataset_tensor[image_id]"
   ]
  },
  {
   "cell_type": "markdown",
   "metadata": {
    "id": "Iqt-e_JSa_EX"
   },
   "source": [
    "Show the corresponding image label:"
   ]
  },
  {
   "cell_type": "code",
   "execution_count": null,
   "metadata": {
    "id": "z8yQm9XZa_Ea"
   },
   "outputs": [],
   "source": [
    "validation_image_label"
   ]
  },
  {
   "cell_type": "code",
   "execution_count": null,
   "metadata": {},
   "outputs": [],
   "source": []
  }
 ],
 "metadata": {
  "colab": {
   "name": "challenge_kickstart.ipynb",
   "provenance": []
  },
  "kernelspec": {
   "display_name": "Python 3",
   "language": "python",
   "name": "python3"
  },
  "language_info": {
   "codemirror_mode": {
    "name": "ipython",
    "version": 3
   },
   "file_extension": ".py",
   "mimetype": "text/x-python",
   "name": "python",
   "nbconvert_exporter": "python",
   "pygments_lexer": "ipython3",
   "version": "3.7.9"
  }
 },
 "nbformat": 4,
 "nbformat_minor": 1
}
