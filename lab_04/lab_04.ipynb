{
  "nbformat": 4,
  "nbformat_minor": 0,
  "metadata": {
    "colab": {
      "name": "aiml_lab_05.ipynb",
      "provenance": [],
      "collapsed_sections": [
        "h6u5XnO_f_S9",
        "hxK30auLf_TA",
        "aoQ0eqPxf_TG",
        "Z3Ofv_5if_TO",
        "cO1HuRGaf_TV",
        "qHv3RfKgf_TY",
        "kQE8s9gKf_Tc",
        "07ily7_Qf_Td"
      ]
    },
    "interpreter": {
      "hash": "8a759edab9623fec557173fc5dc3172aac588fd51e2e191f985f3e24b521fb85"
    },
    "kernelspec": {
      "display_name": "Python 3.7.9 64-bit ('base': conda)",
      "name": "python3"
    },
    "language_info": {
      "codemirror_mode": {
        "name": "ipython",
        "version": 3
      },
      "file_extension": ".py",
      "mimetype": "text/x-python",
      "name": "python",
      "nbconvert_exporter": "python",
      "pygments_lexer": "ipython3",
      "version": "3.7.9"
    },
    "toc": {
      "base_numbering": 1,
      "nav_menu": {},
      "number_sections": false,
      "sideBar": true,
      "skip_h1_title": false,
      "title_cell": "Table of Contents",
      "title_sidebar": "Contents",
      "toc_cell": false,
      "toc_position": {
        "height": "calc(100% - 180px)",
        "left": "10px",
        "top": "150px",
        "width": "439px"
      },
      "toc_section_display": true,
      "toc_window_display": true
    },
    "accelerator": "GPU"
  },
  "cells": [
    {
      "cell_type": "markdown",
      "metadata": {
        "id": "TrZQfQfef_Sy"
      },
      "source": [
        "<img align=\"right\" style=\"max-width: 200px; height: auto\" src=\"https://github.com/HSG-AIML/LabAIML/blob/main/lab_04/hsg_logo.png?raw=1\">\n",
        "\n",
        "##  Lab 04 - \"Deep Learning - Artificial Neural Networks\"\n",
        "\n",
        "Introduction to AI and ML/ML and DL, University of St. Gallen, Fall Term 2021"
      ]
    },
    {
      "cell_type": "markdown",
      "metadata": {
        "id": "U9jWQvMUf_S7"
      },
      "source": [
        "In the last labs you learned about how to utilize the *scikit-learn* module for \"traditional\" machine learning applications. \n",
        "\n",
        "In this lab, we will learn how to implement, train, and apply our first **Artificial Neural Network (ANN)** using a Python library named `PyTorch`. PyTorch is an open-source machine learning library for Python, used for a variety of applications such as image classification and natural language processing. We will use the implemented neural network to learn to classify images of fashion articles from the **Fashion-MNIST** dataset.\n",
        "\n",
        "The figure below illustrates a high-level cartoon of the machine learning process we aim to establish in this lab:"
      ]
    },
    {
      "cell_type": "markdown",
      "metadata": {
        "id": "ZkGxBH16f_S8"
      },
      "source": [
        "<img align=\"center\" style=\"max-width: 700px\" src=\"https://github.com/HSG-AIML/LabAIML/blob/main/lab_04/classification.png?raw=1\">"
      ]
    },
    {
      "cell_type": "markdown",
      "metadata": {
        "id": "t7fq9a_tf_S9"
      },
      "source": [
        "As always, pls. don't hesitate to ask all your questions either during the lab, post them in our CANVAS (StudyNet) forum (https://learning.unisg.ch), or send us an email (using the course email)."
      ]
    },
    {
      "cell_type": "markdown",
      "metadata": {
        "id": "h6u5XnO_f_S9"
      },
      "source": [
        "## 1. Lab Objectives:"
      ]
    },
    {
      "cell_type": "markdown",
      "metadata": {
        "id": "teTUGSxjf_S-"
      },
      "source": [
        "After today's lab, you should be able to:\n",
        "\n",
        "> 1. Understand the basic concepts, intuitions and major building blocks of **Artificial Neural Networks (ANNs)**.\n",
        "> 2. Know how to use Python's **PyTorch library** to train and evaluate neural network based models.\n",
        "> 3. Understand how to apply neural networks to **classify images** of fashion articles.\n",
        "> 4. Know how to **interpret the detection results** of the network as well as its **reconstruction loss**."
      ]
    },
    {
      "cell_type": "markdown",
      "metadata": {
        "id": "hxK30auLf_TA"
      },
      "source": [
        "## 2. Setup of the Jupyter Notebook Environment"
      ]
    },
    {
      "cell_type": "markdown",
      "metadata": {
        "id": "Q8oyiqj2syIG"
      },
      "source": [
        "If you are using Google Colab, this is a good time to enable a GPU. Go to `Runtime`/`Change Runtime Type` and pick GPU. Once that is done, execute the following magic command:"
      ]
    },
    {
      "cell_type": "code",
      "metadata": {
        "id": "1Ecigku-tCC5"
      },
      "source": [
        "!nvidia-smi"
      ],
      "execution_count": null,
      "outputs": []
    },
    {
      "cell_type": "markdown",
      "metadata": {
        "id": "dFsp7hugtKBw"
      },
      "source": [
        "If GPU acceleration is enabled, you will see which type of GPU is available to you."
      ]
    },
    {
      "cell_type": "markdown",
      "metadata": {
        "id": "B71TTsnff_TA"
      },
      "source": [
        "Suppress potential warnings throughout the notebook execution:"
      ]
    },
    {
      "cell_type": "code",
      "metadata": {
        "id": "HlJvafa8f_TB"
      },
      "source": [
        "# import the warnings library\n",
        "import warnings\n",
        "\n",
        "# ignore potential library warnings\n",
        "warnings.filterwarnings('ignore')"
      ],
      "execution_count": null,
      "outputs": []
    },
    {
      "cell_type": "markdown",
      "metadata": {
        "id": "iL14qnz9f_TB"
      },
      "source": [
        "Similar to the previous labs, we need to import a couple of Python libraries that allow for data analysis and data visualization. We will mostly use the `PyTorch`, `Numpy`, `Sklearn`, `Matplotlib`, `Seaborn` and a few utility libraries throughout this lab:"
      ]
    },
    {
      "cell_type": "code",
      "metadata": {
        "id": "t2h-49jSf_TC"
      },
      "source": [
        "# import standard python libraries\n",
        "import os, urllib, io\n",
        "from datetime import datetime\n",
        "import numpy as np"
      ],
      "execution_count": null,
      "outputs": []
    },
    {
      "cell_type": "markdown",
      "metadata": {
        "id": "Ye0cfFXRf_TC"
      },
      "source": [
        "Import the Python machine / deep learning libraries:"
      ]
    },
    {
      "cell_type": "code",
      "metadata": {
        "id": "PLyfF9hJf_TC"
      },
      "source": [
        "# import the PyTorch deep learning libary\n",
        "import torch, torchvision\n",
        "import torch.nn.functional as F\n",
        "from torch import nn, optim"
      ],
      "execution_count": null,
      "outputs": []
    },
    {
      "cell_type": "markdown",
      "metadata": {
        "id": "K9WOh5Mef_TD"
      },
      "source": [
        "Import the sklearn classification metrics:"
      ]
    },
    {
      "cell_type": "code",
      "metadata": {
        "id": "APGZx4e_f_TD"
      },
      "source": [
        "# import sklearn classification evaluation library\n",
        "from sklearn import metrics\n",
        "from sklearn.metrics import classification_report, confusion_matrix"
      ],
      "execution_count": null,
      "outputs": []
    },
    {
      "cell_type": "markdown",
      "metadata": {
        "id": "UACSIoH2f_TD"
      },
      "source": [
        "Import Python plotting libraries:"
      ]
    },
    {
      "cell_type": "code",
      "metadata": {
        "id": "uIAT6c_1f_TD"
      },
      "source": [
        "# import matplotlib, seaborn, and PIL data visualization libary\n",
        "import matplotlib.pyplot as plt\n",
        "import seaborn as sns\n",
        "from PIL import Image"
      ],
      "execution_count": null,
      "outputs": []
    },
    {
      "cell_type": "markdown",
      "metadata": {
        "id": "TTqFiIP3f_TE"
      },
      "source": [
        "Enable notebook matplotlib inline plotting:"
      ]
    },
    {
      "cell_type": "code",
      "metadata": {
        "id": "cyjHewzMf_TE"
      },
      "source": [
        "%matplotlib inline"
      ],
      "execution_count": null,
      "outputs": []
    },
    {
      "cell_type": "markdown",
      "metadata": {
        "id": "YpAG81x1f_TE"
      },
      "source": [
        "Create a structure of notebook sub-directories to store the data as well as the trained neural network models:"
      ]
    },
    {
      "cell_type": "code",
      "metadata": {
        "id": "Qq5_xGMAf_TF"
      },
      "source": [
        "if not os.path.exists('./data'): os.makedirs('./data')  # create data directory\n",
        "if not os.path.exists('./models'): os.makedirs('./models')  # create trained models directory"
      ],
      "execution_count": null,
      "outputs": []
    },
    {
      "cell_type": "markdown",
      "metadata": {
        "id": "hWxs8qvBuWXZ"
      },
      "source": [
        "Set a random `seed` value to obtain reproducable results:"
      ]
    },
    {
      "cell_type": "code",
      "metadata": {
        "id": "PPbnrxnZuXAz"
      },
      "source": [
        "# init deterministic seed\n",
        "seed_value = 42\n",
        "np.random.seed(seed_value) # set numpy seed\n",
        "torch.manual_seed(seed_value) # set pytorch seed CPU"
      ],
      "execution_count": null,
      "outputs": []
    },
    {
      "cell_type": "markdown",
      "metadata": {
        "id": "aoQ0eqPxf_TG"
      },
      "source": [
        "## 3. Dataset Download and Data Assessment"
      ]
    },
    {
      "cell_type": "markdown",
      "metadata": {
        "id": "scfOLpMaf_TG"
      },
      "source": [
        "The **Fashion-MNIST database** is a large database of Zalando articles that is commonly used for training various image processing systems. The database is widely used for training and testing in the field of machine learning. Let's have a brief look into a couple of sample images contained in the dataset:"
      ]
    },
    {
      "cell_type": "markdown",
      "metadata": {
        "id": "saPC_xQBf_TG"
      },
      "source": [
        "<img align=\"center\" style=\"max-width: 500px; height: 300px\" src=\"https://github.com/HSG-AIML/LabAIML/blob/main/lab_04/FashionMNIST.png?raw=1\">\n",
        "\n",
        "Source: https://www.kaggle.com/c/insar-fashion-mnist-challenge"
      ]
    },
    {
      "cell_type": "markdown",
      "metadata": {
        "id": "AD2VWuYcf_TH"
      },
      "source": [
        "Further details on the dataset can be obtained via Zalando research's [github page](https://github.com/zalandoresearch/fashion-mnist)."
      ]
    },
    {
      "cell_type": "markdown",
      "metadata": {
        "id": "H9Y37ubDf_TH"
      },
      "source": [
        "The **Fashion-MNIST database** is a dataset of Zalando's article images, consisting of a training set of 60,000 examples and a test set of 10,000 examples. Each example is a 28x28 grayscale image, associated with a label from 10 classes. Zalando created this dataset with the intention of providing a replacement for the popular **MNIST** handwritten digits dataset. It is a useful addition as it is a bit more complex, but still very easy to use. It shares the same image size and train/test split structure as MNIST, and can therefore be used as a drop-in replacement. It requires minimal efforts on preprocessing and formatting the distinct images."
      ]
    },
    {
      "cell_type": "markdown",
      "metadata": {
        "id": "oAFTA8QSf_TH"
      },
      "source": [
        "Let's download, transform and inspect the training images of the dataset. Therefore, let's first define the directory in which we aim to store the training data:"
      ]
    },
    {
      "cell_type": "code",
      "metadata": {
        "id": "kLbUbCe7f_TI"
      },
      "source": [
        "train_path = './data/train_fashion_mnist'"
      ],
      "execution_count": null,
      "outputs": []
    },
    {
      "cell_type": "markdown",
      "metadata": {
        "id": "uJw2SYFLf_TJ"
      },
      "source": [
        "Validate the directory path of the training data:"
      ]
    },
    {
      "cell_type": "code",
      "metadata": {
        "id": "z-czhvSuf_TJ"
      },
      "source": [
        "train_path"
      ],
      "execution_count": null,
      "outputs": []
    },
    {
      "cell_type": "markdown",
      "metadata": {
        "id": "UPSzMiWbf_TJ"
      },
      "source": [
        "Now, let's download the training data accordingly:"
      ]
    },
    {
      "cell_type": "code",
      "metadata": {
        "id": "PjT_Mgdhf_TJ"
      },
      "source": [
        "# define pytorch transformation into tensor format\n",
        "transf = torchvision.transforms.Compose([torchvision.transforms.ToTensor()])\n",
        "\n",
        "# download and transform training images\n",
        "fashion_mnist_train_data = torchvision.datasets.FashionMNIST(root=train_path, train=True, transform=transf, download=True)"
      ],
      "execution_count": null,
      "outputs": []
    },
    {
      "cell_type": "markdown",
      "metadata": {
        "id": "g8IFirJyf_TK"
      },
      "source": [
        "Verify the number of training images downloaded:"
      ]
    },
    {
      "cell_type": "code",
      "metadata": {
        "id": "Gzs8IYUsf_TK"
      },
      "source": [
        "# determine the number of training data images\n",
        "len(fashion_mnist_train_data)"
      ],
      "execution_count": null,
      "outputs": []
    },
    {
      "cell_type": "markdown",
      "metadata": {
        "id": "zm2XU6Faf_TK"
      },
      "source": [
        "Furthermore, let's inspect a couple of the downloaded training images:"
      ]
    },
    {
      "cell_type": "code",
      "metadata": {
        "id": "9Q0Eg4zpf_TL"
      },
      "source": [
        "# select and set a (random) image id\n",
        "image_id = 3000\n",
        "\n",
        "# retrieve image exhibiting the image id\n",
        "fashion_mnist_train_data[image_id]"
      ],
      "execution_count": null,
      "outputs": []
    },
    {
      "cell_type": "markdown",
      "metadata": {
        "id": "P5LrCH0Jf_TL"
      },
      "source": [
        "Ok, that doesn't seem right :). Let's now seperate the image from its label information:"
      ]
    },
    {
      "cell_type": "code",
      "metadata": {
        "id": "JswMGLS-f_TL"
      },
      "source": [
        "fashion_mnist_train_image, fashion_mnist_train_label = fashion_mnist_train_data[image_id]"
      ],
      "execution_count": null,
      "outputs": []
    },
    {
      "cell_type": "markdown",
      "metadata": {
        "id": "PBs8pf4sm0Dz"
      },
      "source": [
        "We can verify the label that our selected image has:"
      ]
    },
    {
      "cell_type": "code",
      "metadata": {
        "id": "krY8Ug0Hm0_O"
      },
      "source": [
        "fashion_mnist_train_label"
      ],
      "execution_count": null,
      "outputs": []
    },
    {
      "cell_type": "markdown",
      "metadata": {
        "id": "wkqvHI0hm4jT"
      },
      "source": [
        "Ok, we know that the numerical label is 6. Each image is associated with a label from 0 to 9, and this number represents one of the fashion items. So what does 6 mean? Is 6 a bag? A pullover? The order of the classes can be found on Zalando research's [github page](https://github.com/zalandoresearch/fashion-mnist). We need to map each numerical label to its fashion item, which will be useful throughout the lab:"
      ]
    },
    {
      "cell_type": "code",
      "metadata": {
        "id": "68REUnp9nBoS"
      },
      "source": [
        "fashion_classes = {0: 'T-shirt/top',\n",
        "                    1: 'Trouser',\n",
        "                    2: 'Pullover',\n",
        "                    3: 'Dress',\n",
        "                    4: 'Coat',\n",
        "                    5: 'Sandal',\n",
        "                    6: 'Shirt',\n",
        "                    7: 'Sneaker',\n",
        "                    8: 'Bag',\n",
        "                    9: 'Ankle boot'}"
      ],
      "execution_count": null,
      "outputs": []
    },
    {
      "cell_type": "markdown",
      "metadata": {
        "id": "P2GZyYOznDsD"
      },
      "source": [
        "So, we can determine the fashion item that the label represents:"
      ]
    },
    {
      "cell_type": "code",
      "metadata": {
        "id": "NDlC9m_4nEV4"
      },
      "source": [
        "fashion_classes[fashion_mnist_train_label]"
      ],
      "execution_count": null,
      "outputs": []
    },
    {
      "cell_type": "markdown",
      "metadata": {
        "id": "BbFpCAj0f_TM"
      },
      "source": [
        "Great, let's now visually inspect our sample image: "
      ]
    },
    {
      "cell_type": "code",
      "metadata": {
        "id": "78AbI1Exf_TM"
      },
      "source": [
        "# define tensor to image transformation\n",
        "trans = torchvision.transforms.ToPILImage()\n",
        "\n",
        "# set image plot title \n",
        "plt.title('Example: {}, Label: {}'.format(str(image_id), fashion_classes[fashion_mnist_train_label]))\n",
        "\n",
        "# plot fashion article sample\n",
        "plt.imshow(trans(fashion_mnist_train_image), cmap='gray')"
      ],
      "execution_count": null,
      "outputs": []
    },
    {
      "cell_type": "markdown",
      "metadata": {
        "id": "mgBqM36Vf_TM"
      },
      "source": [
        "Fantastic, right? Let's now define the directory in which we aim to store the evaluation data:"
      ]
    },
    {
      "cell_type": "code",
      "metadata": {
        "id": "5wVM2qdNf_TM"
      },
      "source": [
        "eval_path = './data/eval_fashion_mnist'"
      ],
      "execution_count": null,
      "outputs": []
    },
    {
      "cell_type": "markdown",
      "metadata": {
        "id": "gCW6Z2HKf_TN"
      },
      "source": [
        "Validate the directory path of the training data:"
      ]
    },
    {
      "cell_type": "code",
      "metadata": {
        "id": "xKaoc-bdf_TN"
      },
      "source": [
        "eval_path"
      ],
      "execution_count": null,
      "outputs": []
    },
    {
      "cell_type": "markdown",
      "metadata": {
        "id": "12qesx1Lf_TN"
      },
      "source": [
        "And download the evaluation data accordingly:"
      ]
    },
    {
      "cell_type": "code",
      "metadata": {
        "id": "L0llCgjdf_TN"
      },
      "source": [
        "# define pytorch transformation into tensor format\n",
        "transf = torchvision.transforms.Compose([torchvision.transforms.ToTensor()])\n",
        "\n",
        "# download and transform training images\n",
        "fashion_mnist_eval_data = torchvision.datasets.FashionMNIST(root=eval_path, train=False, transform=transf, download=True)"
      ],
      "execution_count": null,
      "outputs": []
    },
    {
      "cell_type": "markdown",
      "metadata": {
        "id": "IvrOu4GXf_TO"
      },
      "source": [
        "Let's also verify the number of evaluation images downloaded:"
      ]
    },
    {
      "cell_type": "code",
      "metadata": {
        "id": "_f1Croxif_TO"
      },
      "source": [
        "# determine the number of evaluation data images\n",
        "len(fashion_mnist_eval_data)"
      ],
      "execution_count": null,
      "outputs": []
    },
    {
      "cell_type": "markdown",
      "metadata": {
        "id": "Z3Ofv_5if_TO"
      },
      "source": [
        "## 4. Neural Network Implementation"
      ]
    },
    {
      "cell_type": "markdown",
      "metadata": {
        "id": "XnmJQyUYf_TO"
      },
      "source": [
        "In this section we, will implement the architecture of the **neural network** we aim to utilize to learn a model that is capable to classify the 28x28 pixel FashionMNIST images of fashion items. However, before we start the implementation let's briefly revisit the process to be established. The following cartoon provides a birds-eye view:"
      ]
    },
    {
      "cell_type": "markdown",
      "metadata": {
        "id": "sauwsep1f_TO"
      },
      "source": [
        "<img align=\"center\" style=\"max-width: 900px\" src=\"https://github.com/HSG-AIML/LabAIML/blob/main/lab_04/process.png?raw=1\">"
      ]
    },
    {
      "cell_type": "markdown",
      "metadata": {
        "id": "KJL-mVYef_TP"
      },
      "source": [
        "### 4.1 Implementation of the Neural Network Architecture"
      ]
    },
    {
      "cell_type": "markdown",
      "metadata": {
        "id": "vnZwrnFMf_TP"
      },
      "source": [
        "The neural network, which we name **'FashionMNISTNet'** consists of three **fully-connected layers** (including an “input layer” and two hidden layers). Furthermore, the **FashionMNISTNet** should encompass the following number of neurons per layer: 100 (layer 1), 50 (layer 2) and 10 (layer 3). Meaning the first layer consists of 100 neurons, the second layer of 50 neurons and third layer of 10 neurons (the number of fashion classes we aim to classify)."
      ]
    },
    {
      "cell_type": "markdown",
      "metadata": {
        "id": "eITzr31ff_TP"
      },
      "source": [
        "We will now start implementing the network architecture as a separate Python class. Implementing the network architectures as a **separate class** in Python is good practice in deep learning projects. It will allow us to create and train several instances of the same neural network architecture. This provides us, for example, the opportunity to evaluate different initializations of the network parameters or train models using distinct datasets. "
      ]
    },
    {
      "cell_type": "code",
      "metadata": {
        "id": "qmtDrTLKf_TP"
      },
      "source": [
        "# implement the FashionMNISTNet network architecture\n",
        "class FashionMNISTNet(nn.Module):\n",
        "    \n",
        "    # define the class constructor\n",
        "    def __init__(self):\n",
        "        \n",
        "        # call super class constructor\n",
        "        super(FashionMNISTNet, self).__init__()\n",
        "        \n",
        "        # specify fully-connected (fc) layer 1 - in 28*28, out 100\n",
        "        self.linear1 = nn.Linear(28*28, 100, bias=True) # the linearity W*x+b\n",
        "        self.relu1 = nn.ReLU(inplace=True) # the non-linearity \n",
        "        \n",
        "        # specify fc layer 2 - in 100, out 50\n",
        "        self.linear2 = nn.Linear(100, 50, bias=True) # the linearity W*x+b\n",
        "        self.relu2 = nn.ReLU(inplace=True) # the non-linarity\n",
        "        \n",
        "        # specify fc layer 3 - in 50, out 10\n",
        "        self.linear3 = nn.Linear(50, 10) # the linearity W*x+b\n",
        "        \n",
        "        # add a softmax to the last layer\n",
        "        self.logsoftmax = nn.LogSoftmax(dim=1) # the softmax\n",
        "        \n",
        "    # define network forward pass\n",
        "    def forward(self, images):\n",
        "        \n",
        "        # reshape image pixels\n",
        "        x = images.view(-1, 28*28)\n",
        "        \n",
        "        # define fc layer 1 forward pass\n",
        "        x = self.relu1(self.linear1(x))\n",
        "        \n",
        "        # define fc layer 2 forward pass\n",
        "        x = self.relu2(self.linear2(x))\n",
        "        \n",
        "        # define layer 3 forward pass\n",
        "        x = self.logsoftmax(self.linear3(x))\n",
        "        \n",
        "        # return forward pass result\n",
        "        return x"
      ],
      "execution_count": null,
      "outputs": []
    },
    {
      "cell_type": "markdown",
      "metadata": {
        "id": "DLAFqafbf_TQ"
      },
      "source": [
        "You may have noticed, when reviewing the implementation above, that we applied an additional operator, referred to as **'Softmax'** to the third layer of our neural network.\n",
        "\n",
        "The **softmax function**, also known as the normalized exponential function, is a function that takes as input a vector of K real numbers, and normalizes it into a probability distribution consisting of K probabilities. \n",
        "\n",
        "That is, prior to applying softmax, some vector components could be negative, or greater than one; and might not sum to 1; but after application of the softmax, each component will be in the interval $(0,1)$, and the components will add up to 1, so that they can be interpreted as probabilities. In general, the softmax function $\\sigma :\\mathbb {R} ^{K}\\to \\mathbb {R} ^{K}$ is defined by the formula:"
      ]
    },
    {
      "cell_type": "markdown",
      "metadata": {
        "id": "bUziecKxf_TR"
      },
      "source": [
        "$$\\sigma (\\mathbf {z} )_{i}=\\ln ({e^{z_{i}} / \\sum_{j=1}^{K}e^{z_{j}}})$$"
      ]
    },
    {
      "cell_type": "markdown",
      "metadata": {
        "id": "OcA83yt7f_TR"
      },
      "source": [
        "for $i = 1, …, K$ and ${\\mathbf {z}}=(z_{1},\\ldots ,z_{K})\\in \\mathbb {R} ^{K}$ (Source: https://en.wikipedia.org/wiki/Softmax_function ). \n",
        "\n",
        "Let's have a look at the simplified three-class example below. The scores of the distinct predicted classes $c_i$ are computed from the forward propagation of the network. We then take the softmax and obtain the probabilities as shown:"
      ]
    },
    {
      "cell_type": "markdown",
      "metadata": {
        "id": "BfB7UWZhf_TR"
      },
      "source": [
        "<img align=\"center\" style=\"max-width: 600px\" src=\"https://github.com/HSG-AIML/LabAIML/blob/main/lab_04/softmax.png?raw=1\">"
      ]
    },
    {
      "cell_type": "markdown",
      "metadata": {
        "id": "3cokkze1f_TS"
      },
      "source": [
        "The output of the softmax describes the probability (or if you may, the confidence) of the neural network that a particular sample belongs to a certain class. Thus, for the first example above, the neural network assigns a confidence of 0.49 that it is a 'T-shirt', 0.49 that it is a 'Dress', and 0.02 that it is a 'Sneaker'. The same goes for each of the samples above.\n",
        "\n",
        "Now, that we have implemented our first neural network we are ready to instantiate a network model to be trained:"
      ]
    },
    {
      "cell_type": "code",
      "metadata": {
        "id": "3k8YhZvtf_TS"
      },
      "source": [
        "model = FashionMNISTNet()"
      ],
      "execution_count": null,
      "outputs": []
    },
    {
      "cell_type": "markdown",
      "metadata": {
        "id": "_yuEExNgf_TS"
      },
      "source": [
        "Once the model is initialized, we can visualize the model structure and review the implemented network architecture by execution of the following cell:"
      ]
    },
    {
      "cell_type": "code",
      "metadata": {
        "id": "vVcvWwalf_TS"
      },
      "source": [
        "# print the initialized architectures\n",
        "print('[LOG] FashionMNISTNet architecture:\\n\\n{}\\n'.format(model))"
      ],
      "execution_count": null,
      "outputs": []
    },
    {
      "cell_type": "markdown",
      "metadata": {
        "id": "7FasQwwKf_TT"
      },
      "source": [
        "Looks like intended? Brilliant! Finally, let's have a look into the number of model parameters that we aim to train in the next steps of the notebook:"
      ]
    },
    {
      "cell_type": "code",
      "metadata": {
        "id": "UkC_p1xyf_TT"
      },
      "source": [
        "# init the number of model parameters\n",
        "num_params = 0\n",
        "\n",
        "# iterate over the distinct parameters\n",
        "for param in model.parameters():\n",
        "\n",
        "    # collect number of parameters\n",
        "    num_params += param.numel()\n",
        "    \n",
        "# print the number of model paramters\n",
        "print('[LOG] Number of to be trained FashionMNISTNet model parameters: {}.'.format(num_params))"
      ],
      "execution_count": null,
      "outputs": []
    },
    {
      "cell_type": "markdown",
      "metadata": {
        "id": "VZxq2FgKf_TT"
      },
      "source": [
        "Ok, our \"simple\" FashionMNISTNet model already encompasses an impressive number 84'060 model parameters to be trained."
      ]
    },
    {
      "cell_type": "markdown",
      "metadata": {
        "id": "WXzviO-ff_TT"
      },
      "source": [
        "### 4.2 Specification of the Neural Network Loss Function"
      ]
    },
    {
      "cell_type": "markdown",
      "metadata": {
        "id": "L7JKhw6Bf_TT"
      },
      "source": [
        "Now that we have implemented the **FashionMNISTNet** we are ready to train the network. However, prior to starting the training, we need to define an appropriate loss function. Remember, we aim to train our model to learn a set of model parameters $\\theta$ that minimize the classification error of the true class $c^{i}$ of a given fashion article image $x^{i}$ and its predicted class $\\hat{c}^{i} = f_\\theta(x^{i})$ as faithfully as possible. \n",
        "\n",
        "Thereby, the training objective is to learn a set of optimal model parameters $\\theta^*$ that optimize $\\arg\\min_{\\theta} \\|C - f_\\theta(X)\\|$ over all training images in the FashionMNIST dataset. To achieve this optimization objective, one typically minimizes a loss function $\\mathcal{L_{\\theta}}$ as part of the network training. In this lab we use the **'Negative Log Likelihood (NLL)'** loss, defined by:\n",
        "\n",
        "$$\\mathcal{L}^{NLL}_{\\theta} (c_i, \\hat c_i) = - \\frac{1}{N} \\sum_{i=1}^N \\log (\\hat{c}_i), $$"
      ]
    },
    {
      "cell_type": "markdown",
      "metadata": {
        "id": "j0QrTd8Qf_TT"
      },
      "source": [
        "for a set of $n$-FashionMNIST images $x^{i}$, $i=1,...,n$ and their respective predicted class labels $\\hat{c}^{i}$. This is summed for all the correct classes. \n",
        "\n",
        "Let's have a look at a brief example:"
      ]
    },
    {
      "cell_type": "markdown",
      "metadata": {
        "id": "5xIXpU5if_TU"
      },
      "source": [
        "<img align=\"center\" style=\"max-width: 600px\" src=\"https://github.com/HSG-AIML/LabAIML/blob/main/lab_04/loss.png?raw=1\">"
      ]
    },
    {
      "cell_type": "markdown",
      "metadata": {
        "id": "KzJSF1Olf_TU"
      },
      "source": [
        "During training the **NLL** loss will penalize models that result in a high classification error between the predicted class labels $\\hat{c}^{i}$ and their respective true class label $c^{i}$. Luckily, an implementation of the NLL loss is already available in PyTorch! It can be instantiated \"off-the-shelf\" via the execution of the following PyTorch command:"
      ]
    },
    {
      "cell_type": "code",
      "metadata": {
        "id": "DA3vk7VSf_TU"
      },
      "source": [
        "# define the optimization criterion / loss function\n",
        "nll_loss = nn.NLLLoss()"
      ],
      "execution_count": null,
      "outputs": []
    },
    {
      "cell_type": "markdown",
      "metadata": {
        "id": "cO1HuRGaf_TV"
      },
      "source": [
        "## 5. Training the Neural Network Model"
      ]
    },
    {
      "cell_type": "markdown",
      "metadata": {
        "id": "1gx26pPIf_TV"
      },
      "source": [
        "In this section, we will train our neural network model (as implemented in the section above) using the transformed images of fashion items. More specifically, we will have a detailed look into the distinct training steps as well as how to monitor the training progress."
      ]
    },
    {
      "cell_type": "markdown",
      "metadata": {
        "id": "nAAUQDGEf_TV"
      },
      "source": [
        "### 5.1. Preparing the Network Training"
      ]
    },
    {
      "cell_type": "markdown",
      "metadata": {
        "id": "DFV64JB_f_TV"
      },
      "source": [
        "So far, we have pre-processed the dataset, implemented the ANN and defined the classification error. Let's now start to train a corresponding model for **20 epochs** and a **mini-batch size of 128** FashionMNIST images per batch. This implies that the whole dataset will be fed to the ANN 20 times in chunks of 128 images yielding to **469 mini-batches** (60.000 images / 128 images per mini-batch) per epoch."
      ]
    },
    {
      "cell_type": "code",
      "metadata": {
        "id": "CmFooWV5f_TV"
      },
      "source": [
        "# specify the training parameters\n",
        "num_epochs = 20 # number of training epochs\n",
        "mini_batch_size = 128 # size of the mini-batches"
      ],
      "execution_count": null,
      "outputs": []
    },
    {
      "cell_type": "markdown",
      "metadata": {
        "id": "NyHO5FStf_TW"
      },
      "source": [
        "Based on the loss magnitude of a certain mini-batch PyTorch automatically computes the gradients. But even better, based on the gradient, the library also helps us in the optimization and update of the network parameters $\\theta$.\n",
        "\n",
        "We will use the **Stochastic Gradient Descent (SGD) optimization** and set the learning-rate $l = 0.001$. Each mini-batch step the optimizer will update the model parameters $\\theta$ values according to the degree of classification error (the MSE loss)."
      ]
    },
    {
      "cell_type": "code",
      "metadata": {
        "id": "aTTgu1kgf_TW"
      },
      "source": [
        "# define learning rate and optimization strategy\n",
        "learning_rate = 0.001\n",
        "optimizer = optim.SGD(params=model.parameters(), lr=learning_rate)"
      ],
      "execution_count": null,
      "outputs": []
    },
    {
      "cell_type": "markdown",
      "metadata": {
        "id": "3ZyC37oYf_TW"
      },
      "source": [
        "Now that we have successfully implemented and defined the three ANN building blocks let's take some time to review the `FashionMNISTNet` model definition as well as the `loss`. Please, read the above code and comments carefully and don't hesitate to let us know any questions you might have."
      ]
    },
    {
      "cell_type": "markdown",
      "metadata": {
        "id": "O8uL5llpf_TW"
      },
      "source": [
        "Furthermore, lets specify and instantiate a corresponding PyTorch data loader that feeds the image tensors to our neural network:"
      ]
    },
    {
      "cell_type": "code",
      "metadata": {
        "id": "K7eCCDYEf_TW"
      },
      "source": [
        "fashion_mnist_train_dataloader = torch.utils.data.DataLoader(fashion_mnist_train_data, batch_size=mini_batch_size, shuffle=True)"
      ],
      "execution_count": null,
      "outputs": []
    },
    {
      "cell_type": "markdown",
      "metadata": {
        "id": "uGdHicLBf_TX"
      },
      "source": [
        "### 5.2. Running the Network Training"
      ]
    },
    {
      "cell_type": "markdown",
      "metadata": {
        "id": "0HigAfs9f_TX"
      },
      "source": [
        "Finally, we start training the model. The detailed training procedure for each mini-batch is performed as follows: \n",
        "\n",
        ">1. do a forward pass through the FashionMNISTNet network, \n",
        ">2. compute the negative log likelihood classification error $\\mathcal{L}^{NLL}_{\\theta}(c^{i};\\hat{c}^{i})$, \n",
        ">3. do a backward pass through the FashionMNISTNet network, and \n",
        ">4. update the parameters of the network $f_\\theta(\\cdot)$.\n",
        "\n",
        "To ensure learning while training our ANN model, we will monitor whether the loss decreases with progressing training. Therefore, we obtain and evaluate the classification performance of the entire training dataset after each training epoch. Based on this evaluation, we can conclude on the training progress and whether the loss is converging (indicating that the model might not improve any further).\n",
        "\n",
        "The following elements of the network training code below should be given particular attention:\n",
        " \n",
        ">- `loss.backward()` computes the gradients based on the magnitude of the reconstruction loss,\n",
        ">- `optimizer.step()` updates the network parameters based on the gradient."
      ]
    },
    {
      "cell_type": "code",
      "metadata": {
        "id": "rzmRSDkHf_TX"
      },
      "source": [
        "# init collection of training epoch losses\n",
        "train_epoch_losses = []\n",
        "\n",
        "# set the model in training mode\n",
        "model.train()\n",
        "\n",
        "# train the FashionMNISTNet model\n",
        "for epoch in range(num_epochs):\n",
        "    \n",
        "    # init collection of mini-batch losses\n",
        "    train_mini_batch_losses = []\n",
        "    \n",
        "    # iterate over all-mini batches\n",
        "    for i, (images, labels) in enumerate(fashion_mnist_train_dataloader):\n",
        "        \n",
        "        # run forward pass through the network\n",
        "        output = model(images)\n",
        "        \n",
        "        # reset graph gradients\n",
        "        model.zero_grad()\n",
        "        \n",
        "        # determine classification loss\n",
        "        loss = nll_loss(output, labels)\n",
        "        \n",
        "        # run backward pass\n",
        "        loss.backward()\n",
        "        \n",
        "        # update network paramaters\n",
        "        optimizer.step()\n",
        "        \n",
        "        # collect mini-batch reconstruction loss\n",
        "        train_mini_batch_losses.append(loss.data.item())\n",
        "    \n",
        "    # determine mean min-batch loss of epoch\n",
        "    train_epoch_loss = np.mean(train_mini_batch_losses)\n",
        "    \n",
        "    # print epoch loss\n",
        "    now = datetime.utcnow().strftime(\"%Y%m%d-%H:%M:%S\")\n",
        "    print('[LOG {}] epoch: {} train-loss: {}'.format(str(now), str(epoch), str(train_epoch_loss)))\n",
        "    \n",
        "    # save model to local directory\n",
        "    model_name = 'fashion_mnist_model_epoch_{}.pth'.format(str(epoch))\n",
        "    torch.save(model.state_dict(), os.path.join(\"./models\", model_name))\n",
        "\n",
        "    # determine mean min-batch loss of epoch\n",
        "    train_epoch_losses.append(train_epoch_loss)"
      ],
      "execution_count": null,
      "outputs": []
    },
    {
      "cell_type": "markdown",
      "metadata": {
        "id": "MKS5dCZ7f_TX"
      },
      "source": [
        "Upon successfull training let's visualize and inspect the training loss per epoch:"
      ]
    },
    {
      "cell_type": "code",
      "metadata": {
        "id": "UBjbjRNXf_TX"
      },
      "source": [
        "# prepare plot\n",
        "fig = plt.figure()\n",
        "ax = fig.add_subplot(111)\n",
        "\n",
        "# add grid\n",
        "ax.grid(linestyle='dotted')\n",
        "\n",
        "# plot the training epochs vs. the epochs' classification error\n",
        "ax.plot(np.array(range(1, len(train_epoch_losses)+1)), train_epoch_losses, label='epoch loss (blue)')\n",
        "\n",
        "# add axis legends\n",
        "ax.set_xlabel(\"[training epoch $e_i$]\", fontsize=10)\n",
        "ax.set_ylabel(\"[Classification Error $\\mathcal{L}^{NLL}$]\", fontsize=10)\n",
        "\n",
        "# set plot legend\n",
        "plt.legend(loc=\"upper right\", numpoints=1, fancybox=True)\n",
        "\n",
        "# add plot title\n",
        "plt.title('Training Epochs $e_i$ vs. Classification Error $L^{NLL}$', fontsize=10);"
      ],
      "execution_count": null,
      "outputs": []
    },
    {
      "cell_type": "markdown",
      "metadata": {
        "id": "5usAYwmtf_TX"
      },
      "source": [
        "Ok, fantastic. The training error is nicely going down. We could train the network a couple more epochs until the error converges. But let's stay with the 20 training epochs for now and continue with evaluating our trained model."
      ]
    },
    {
      "cell_type": "markdown",
      "metadata": {
        "id": "qHv3RfKgf_TY"
      },
      "source": [
        "## 6. Evaluation of the Trained Neural Network Model"
      ]
    },
    {
      "cell_type": "markdown",
      "metadata": {
        "id": "PGpEky87f_TY"
      },
      "source": [
        "Before evaluating our model let's load the best performing model. Remember, that we stored a snapshot of the model after each training epoch to our local model directory. We will now load the last snapshot saved."
      ]
    },
    {
      "cell_type": "code",
      "metadata": {
        "id": "UHQuk5swf_TY"
      },
      "source": [
        "# restore pre-trained model snapshot\n",
        "best_model_name = 'https://github.com/HSG-AIML/LabAIML/blob/main/lab_04/models/fashion_mnist_model_epoch_19.pth?raw=1'\n",
        "\n",
        "# read stored model from the remote location\n",
        "model_bytes = urllib.request.urlopen(best_model_name)\n",
        "\n",
        "# load model tensor from io.BytesIO object\n",
        "model_buffer = io.BytesIO(model_bytes.read())\n",
        "\n",
        "# init pre-trained model class\n",
        "best_model = FashionMNISTNet()\n",
        "\n",
        "# load pre-trained models\n",
        "best_model.load_state_dict(torch.load(model_buffer, map_location=torch.device('cpu')))"
      ],
      "execution_count": null,
      "outputs": []
    },
    {
      "cell_type": "markdown",
      "metadata": {
        "id": "D6Al5bn0f_TY"
      },
      "source": [
        "Let's inspect if the model was loaded successfully: "
      ]
    },
    {
      "cell_type": "code",
      "metadata": {
        "id": "1i0XggrHf_TY"
      },
      "source": [
        "# set model in evaluation mode\n",
        "best_model.eval()"
      ],
      "execution_count": null,
      "outputs": []
    },
    {
      "cell_type": "markdown",
      "metadata": {
        "id": "JzkC5Bucf_TY"
      },
      "source": [
        "To evaluate our trained model, we need to feed the FashionMNIST images reserved for evaluation (the images that we didn't use as part of the training process) through the model. Therefore, let's again define a corresponding PyTorch data loader that feeds the image tensors to our neural network: "
      ]
    },
    {
      "cell_type": "code",
      "metadata": {
        "id": "qYytul2if_TZ"
      },
      "source": [
        "fashion_mnist_eval_dataloader = torch.utils.data.DataLoader(fashion_mnist_eval_data, batch_size=10000, shuffle=True)"
      ],
      "execution_count": null,
      "outputs": []
    },
    {
      "cell_type": "markdown",
      "metadata": {
        "id": "HIqaWtLDf_TZ"
      },
      "source": [
        "We will now evaluate the trained model using the same mini-batch approach as we did throughout the network training and derive the mean negative log-likelihood loss of the mini-batches:"
      ]
    },
    {
      "cell_type": "code",
      "metadata": {
        "id": "XjLxh700f_TZ"
      },
      "source": [
        "# init collection of mini-batch losses\n",
        "eval_mini_batch_losses = []\n",
        "\n",
        "# iterate over all-mini batches\n",
        "for i, (images, labels) in enumerate(fashion_mnist_eval_dataloader):\n",
        "\n",
        "    # run forward pass through the network\n",
        "    output = best_model(images)\n",
        "\n",
        "    # determine classification loss\n",
        "    loss = nll_loss(output, labels)\n",
        "\n",
        "    # collect mini-batch reconstruction loss\n",
        "    eval_mini_batch_losses.append(loss.data.item())\n",
        "\n",
        "# determine mean min-batch loss of epoch\n",
        "eval_loss = np.mean(eval_mini_batch_losses)\n",
        "\n",
        "# print epoch loss\n",
        "now = datetime.utcnow().strftime(\"%Y%m%d-%H:%M:%S\")\n",
        "print('[LOG {}] eval-loss: {}'.format(str(now), str(eval_loss)))"
      ],
      "execution_count": null,
      "outputs": []
    },
    {
      "cell_type": "markdown",
      "metadata": {
        "id": "OGquVNcSf_TZ"
      },
      "source": [
        "Ok, great. The evaluation loss looks in-line with our training loss. Let's now inspect a few sample predictions to get an impression of the model quality. Therefore, we will again pick a random image of our evaluation dataset and retrieve its PyTorch tensor as well as the corresponding label:"
      ]
    },
    {
      "cell_type": "code",
      "metadata": {
        "id": "5onWD0_wf_TZ"
      },
      "source": [
        "# set (random) image id\n",
        "image_id = 2000\n",
        "\n",
        "# retrieve image exhibiting the image id\n",
        "fashion_mnist_eval_image, fashion_mnist_eval_label = fashion_mnist_eval_data[image_id]"
      ],
      "execution_count": null,
      "outputs": []
    },
    {
      "cell_type": "markdown",
      "metadata": {
        "id": "EPwmwkJjf_TZ"
      },
      "source": [
        "Let's now inspect the true class of the image we selected:"
      ]
    },
    {
      "cell_type": "code",
      "metadata": {
        "id": "8g_Ll33mf_Ta"
      },
      "source": [
        "fashion_classes[fashion_mnist_eval_label]"
      ],
      "execution_count": null,
      "outputs": []
    },
    {
      "cell_type": "markdown",
      "metadata": {
        "id": "WOUKsbK1f_Ta"
      },
      "source": [
        "Ok, the randomly selected image should contain a Bag. Let's inspect the image accordingly:"
      ]
    },
    {
      "cell_type": "code",
      "metadata": {
        "id": "XGExl0cff_Ta"
      },
      "source": [
        "# define tensor to image transformation\n",
        "trans = torchvision.transforms.ToPILImage()\n",
        "\n",
        "# set image plot title \n",
        "plt.title('Example: {}, Label: {}'.format(str(image_id), fashion_classes[fashion_mnist_eval_label]))\n",
        "\n",
        "# plot fashion article\n",
        "plt.imshow(trans(fashion_mnist_eval_image), cmap='gray')"
      ],
      "execution_count": null,
      "outputs": []
    },
    {
      "cell_type": "markdown",
      "metadata": {
        "id": "_0lhSaUhf_Ta"
      },
      "source": [
        "Ok, let's compare the true label with the prediction of our model:"
      ]
    },
    {
      "cell_type": "code",
      "metadata": {
        "id": "Qar5EX5nf_Ta"
      },
      "source": [
        "best_model(fashion_mnist_eval_image)"
      ],
      "execution_count": null,
      "outputs": []
    },
    {
      "cell_type": "markdown",
      "metadata": {
        "id": "8ERHcQwYf_Ta"
      },
      "source": [
        "We can even determine the likelihood of the most probable class:"
      ]
    },
    {
      "cell_type": "code",
      "metadata": {
        "id": "ky-v74Zvf_Tb"
      },
      "source": [
        "most_probable = torch.argmax(best_model(fashion_mnist_eval_image), dim=1).item()\n",
        "print('Most probable class: {}'.format(most_probable))\n",
        "print('This class represents the following fashion article: {}'.format(fashion_classes[most_probable]))"
      ],
      "execution_count": null,
      "outputs": []
    },
    {
      "cell_type": "markdown",
      "metadata": {
        "id": "z-MFsYp6f_Tb"
      },
      "source": [
        "Let's now obtain the predictions for all the fashion item images of the evaluation data:"
      ]
    },
    {
      "cell_type": "code",
      "metadata": {
        "id": "q7Odkc4hf_Tb"
      },
      "source": [
        "predictions = torch.argmax(best_model(fashion_mnist_eval_data.data.float()), dim=1)"
      ],
      "execution_count": null,
      "outputs": []
    },
    {
      "cell_type": "markdown",
      "metadata": {
        "id": "kXPpWVIcf_Tb"
      },
      "source": [
        "Furthermore, let's obtain the overall classification accuracy:"
      ]
    },
    {
      "cell_type": "code",
      "metadata": {
        "id": "2zqVW0_zf_Tb"
      },
      "source": [
        "metrics.accuracy_score(fashion_mnist_eval_data.targets, predictions)"
      ],
      "execution_count": null,
      "outputs": []
    },
    {
      "cell_type": "markdown",
      "metadata": {
        "id": "PuoBTee8f_Tb"
      },
      "source": [
        "Let's also inspect the confusion matrix to determine major sources of misclassification"
      ]
    },
    {
      "cell_type": "code",
      "metadata": {
        "id": "lJcm3UzZf_Tc"
      },
      "source": [
        "# determine classification matrix of the predicted and target classes\n",
        "mat = confusion_matrix(fashion_mnist_eval_data.targets, predictions.detach())\n",
        "\n",
        "# initialize the plot and define size\n",
        "plt.figure(figsize=(8, 8))\n",
        "\n",
        "# plot corresponding confusion matrix\n",
        "sns.heatmap(mat.T, square=True, annot=True, fmt='d', cbar=False, cmap='YlOrRd_r', xticklabels=fashion_classes.values(), yticklabels=fashion_classes.values())\n",
        "plt.tick_params(axis='both', which='major', labelsize=8, labelbottom = False, bottom=False, top = False, left = False, labeltop=True)\n",
        "plt.title('FashionMNIST classification matrix')\n",
        "plt.xlabel('[true label]')\n",
        "plt.ylabel('[predicted label]');"
      ],
      "execution_count": null,
      "outputs": []
    },
    {
      "cell_type": "markdown",
      "metadata": {
        "id": "wpc3rjbXf_Tc"
      },
      "source": [
        "Ok, we can easily see that our current model confuses sandals with either sneakers or ankle boots. However, the inverse does not really hold. The model sometimes confuses sneakers with ankle boots, and only very rarely with sandals. The same holds ankle boots. Our model also has issues distinguishing shirts from coats (and, to a lesser degree, from T-shirts and pullovers).\n",
        "\n",
        "These mistakes are not very surprising, as these items exhibit a high similarity."
      ]
    },
    {
      "cell_type": "markdown",
      "metadata": {
        "id": "kQE8s9gKf_Tc"
      },
      "source": [
        "## 7. Exercises:"
      ]
    },
    {
      "cell_type": "markdown",
      "metadata": {
        "id": "_ld_o0ocf_Tc"
      },
      "source": [
        "We recommend you try the following exercises as part of the lab:\n",
        "\n",
        "**1. Train the network a couple more epochs and evaluate its prediction accuracy.**\n",
        "\n",
        "> Increase the number of training epochs up to 50 epochs and re-run the network training. Load and evaluate the model exhibiting the lowest training loss. What kind of behaviour in terms of prediction accuracy can be observed with increasing the training epochs?"
      ]
    },
    {
      "cell_type": "code",
      "metadata": {
        "id": "9AHypjd-f_Tc"
      },
      "source": [
        "# ***************************************************\n",
        "# INSERT YOUR CODE HERE\n",
        "# ***************************************************"
      ],
      "execution_count": null,
      "outputs": []
    },
    {
      "cell_type": "markdown",
      "metadata": {
        "id": "ByGMfebVf_Tc"
      },
      "source": [
        "**2. Evaluation of \"shallow\" vs. \"deep\" neural network architectures.**\n",
        "\n",
        "> In addition to the architecture of the lab notebook, evaluate further (more shallow as well as more deep) neural network architectures by (1) either removing or adding layers to the network and/or (2) increasing/decreasing the number of neurons per layer. Train a model (using the architectures you selected) for at least 50 training epochs. Analyze the prediction performance of the trained models in terms of training time and prediction accuracy. "
      ]
    },
    {
      "cell_type": "code",
      "metadata": {
        "id": "WQQD54qKf_Td"
      },
      "source": [
        "# ***************************************************\n",
        "# INSERT YOUR CODE HERE\n",
        "# ***************************************************"
      ],
      "execution_count": null,
      "outputs": []
    },
    {
      "cell_type": "markdown",
      "metadata": {
        "id": "07ily7_Qf_Td"
      },
      "source": [
        "## 8. Lab Summary:"
      ]
    },
    {
      "cell_type": "markdown",
      "metadata": {
        "id": "7RUPNmOMf_Td"
      },
      "source": [
        "In this lab, a step by step introduction into the **design, implementation, training and evaluation** of neural networks to classify images of fashion items is presented. The code and exercises presented in this lab may serves as a starting point for developing more complex, more deep and tailored **neural networks**."
      ]
    },
    {
      "cell_type": "markdown",
      "metadata": {
        "id": "HY2hBsCif_Td"
      },
      "source": [
        "You may want to execute the content of your lab outside of the Jupyter notebook environment, e.g. on a compute node or a server. The cell below converts the lab notebook into a standalone and executable python script. Pls. note that to convert the notebook, you need to install Python's **nbconvert** library and its extensions:"
      ]
    },
    {
      "cell_type": "code",
      "metadata": {
        "id": "l7XRcsjlf_Td"
      },
      "source": [
        "# installing the nbconvert library\n",
        "!pip install nbconvert\n",
        "!pip install jupyter_contrib_nbextensions"
      ],
      "execution_count": null,
      "outputs": []
    },
    {
      "cell_type": "markdown",
      "metadata": {
        "id": "auM3rv7Hf_Td"
      },
      "source": [
        "Let's now convert the Jupyter notebook into a plain Python script:"
      ]
    },
    {
      "cell_type": "code",
      "metadata": {
        "id": "V-etabQZf_Te"
      },
      "source": [
        "!jupyter nbconvert --to script aiml_colab_05.ipynb"
      ],
      "execution_count": null,
      "outputs": []
    }
  ]
}