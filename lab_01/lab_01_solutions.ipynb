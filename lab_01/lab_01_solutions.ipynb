{
 "cells": [
  {
   "cell_type": "markdown",
   "metadata": {},
   "source": [
    "<img align=\"right\" style=\"max-width: 200px; height: auto\" src=\"hsg_logo.png\">\n",
    "\n",
    "###  Fundamentals of Python Programming: Data Types and Containers\n",
    "\n",
    "Introduction to ML and DL, University of St. Gallen, Fall Term 2021"
   ]
  },
  {
   "cell_type": "markdown",
   "metadata": {},
   "source": [
    "\n",
    "The goal of the exercises below is to deepen your understanding of the Python language. In this Notebook, exercises are focused on our Python 101 Notebook. Feel free to use that Notebook as a reference, to search for help online, and to work together with others. If you have questions, please feel free to shout out!\n",
    "\n",
    "You don't have to work on these exercises in any specific order or finish them at all!\n",
    "\n",
    "In case you are wondering: yes, this Notebook is Halloween-themed."
   ]
  },
  {
   "cell_type": "markdown",
   "metadata": {
    "id": "-5omx0uRAhsA"
   },
   "source": [
    "## Basic Data Types"
   ]
  },
  {
   "cell_type": "markdown",
   "metadata": {
    "id": "DQz2SFrMAhsA"
   },
   "source": [
    "**1. Write a set of (or single) Python command(s) that compare the first and last character of a string.**\n",
    "\n",
    "> Write a set of Python commands that compare the first and last character of a string. In case both characters are the same print 'True' otherwise print 'False'. Test your statements one the strings `s1` and `s2` as defined below."
   ]
  },
  {
   "cell_type": "code",
   "execution_count": 1,
   "metadata": {
    "id": "jbjp549OAhsB"
   },
   "outputs": [
    {
     "name": "stdout",
     "output_type": "stream",
     "text": [
      "False\n",
      "True\n"
     ]
    }
   ],
   "source": [
    "s1 = 'spooky'\n",
    "s2 = 'sweets'\n",
    "\n",
    "# ***************************************************\n",
    "# INSERT YOUR SOLUTION CODE HERE\n",
    "# ***************************************************\n",
    "\n",
    "print(s1[0] == s1[-1])\n",
    "print(s2[0] == s2[-1])"
   ]
  },
  {
   "cell_type": "markdown",
   "metadata": {
    "id": "a-1ER6uJAhsB"
   },
   "source": [
    "**2. Write a set of (or single) Python command(s) that determine the properties of a string.**\n",
    "\n",
    "> Write a set of Python commands that determine the number of characters of a string and whether the characters are all upper case. If the number of characters is between 5 and 12 characters and all upper case print 'True' otherwise print 'False'. Test your statements on the strings `s1`, `s2`, and `s3` as defined below."
   ]
  },
  {
   "cell_type": "code",
   "execution_count": 2,
   "metadata": {
    "id": "AjCBoIfjAhsB"
   },
   "outputs": [
    {
     "name": "stdout",
     "output_type": "stream",
     "text": [
      "False\n",
      "False\n",
      "True\n"
     ]
    }
   ],
   "source": [
    "s1 = 'Cat'\n",
    "s2 = 'RhinOzeRos'\n",
    "s3 = 'PYRRHULOXIA'\n",
    "\n",
    "# ***************************************************\n",
    "# INSERT YOUR SOLUTION CODE HERE\n",
    "# ***************************************************\n",
    "\n",
    "print(5 < len(s1) and len(s1) < 12 and s1.isupper())\n",
    "print(5 < len(s2) and len(s2) < 12 and s2.isupper())\n",
    "print(5 < len(s3) and len(s3) < 12 and s3.isupper())"
   ]
  },
  {
   "cell_type": "markdown",
   "metadata": {
    "id": "eRfRyxG6AhsB"
   },
   "source": [
    "**3. Write a set of (or single) Python command(s) that prints a very scary sentence.** (just imagine it's Halloween)\n",
    "\n",
    "> Write a set of Python commands that prints the scariest sentence that you could imagine. The sentence should include at least 3 of the following words 'tarantula', 'moonlight', 'supernatural', 'fog', 'owl', 'nightmare', or 'poltergeist'. "
   ]
  },
  {
   "cell_type": "code",
   "execution_count": 3,
   "metadata": {
    "id": "ZQUYxlXYAhsB"
   },
   "outputs": [
    {
     "name": "stdout",
     "output_type": "stream",
     "text": [
      "As the supernatural fog invaded the city, tarantulae started emerging from the ground, and event which generated nightmares for years!\n"
     ]
    }
   ],
   "source": [
    "# ***************************************************\n",
    "# INSERT YOUR SOLUTION CODE HERE\n",
    "# ***************************************************\n",
    "\n",
    "words = ['supernatural', 'fog', 'tarantulae', 'nightmares']\n",
    "scary_sentence = 'As the {} {} invaded the city, {} started emerging from the ground, and event which generated {} for years!'.format(words[0], words[1], words[2], words[3])\n",
    "print(scary_sentence)"
   ]
  },
  {
   "cell_type": "markdown",
   "metadata": {
    "id": "ohwxx6eHAhsG"
   },
   "source": [
    "## Data Containers"
   ]
  },
  {
   "cell_type": "markdown",
   "metadata": {
    "id": "WlFZF2pAAhsG"
   },
   "source": [
    "\n",
    "**1. Write a set of (or single) Python command(s) that determine the number of characters of a list element.**\n",
    "\n",
    "> Write a set of Python commands that determine the number of characters of the second element of a list. In case the element consists of more than 4 characters print 'True' otherwise print 'False'. Test your statements on lists `l1` and `l2` as defined below."
   ]
  },
  {
   "cell_type": "code",
   "execution_count": 4,
   "metadata": {
    "id": "tQeAxFjrAhsG"
   },
   "outputs": [
    {
     "name": "stdout",
     "output_type": "stream",
     "text": [
      "True\n",
      "False\n"
     ]
    }
   ],
   "source": [
    "l1 = ['angel', 'nightmare', 'poltergeist']\n",
    "l2 = ['darkness', 'king', 'fairy', 'owl']\n",
    "\n",
    "# ***************************************************\n",
    "# INSERT YOUR SOLUTION CODE HERE\n",
    "# ***************************************************\n",
    "\n",
    "print(len(l1[1]) > 4)\n",
    "print(len(l2[1]) > 4)"
   ]
  },
  {
   "cell_type": "markdown",
   "metadata": {
    "id": "V4DbzkdNAhsG"
   },
   "source": [
    "**2. Write a set of (or single) Python command(s) that compares the elements of a list.**\n",
    "\n",
    "> Write a set of Python commands that compares the first and last elements of a list. In case both elements consist of the same characters print 'True' otherwise print 'False'. Test your statements on lists `l1` and `l2` as defined below."
   ]
  },
  {
   "cell_type": "code",
   "execution_count": 5,
   "metadata": {
    "id": "p522kJaIAhsG"
   },
   "outputs": [
    {
     "name": "stdout",
     "output_type": "stream",
     "text": [
      "True\n",
      "False\n"
     ]
    }
   ],
   "source": [
    "l1 = ['BROOMSTICK', 'ghostly', 'mYstEriOUs', 'BROOMSTICK']\n",
    "l2 = ['darkness', 'king', 'fairy', 'owl']\n",
    "\n",
    "# ***************************************************\n",
    "# INSERT YOUR SOLUTION CODE HERE\n",
    "# ***************************************************\n",
    "\n",
    "print(l1[0] == l1[-1])\n",
    "print(l2[0] == l2[-1])"
   ]
  },
  {
   "cell_type": "markdown",
   "metadata": {
    "id": "zivjjJ5wAhsG"
   },
   "source": [
    "**3. Write a set of (or single) Python command(s) that removes elements of a list.**\n",
    "\n",
    "> Write a set of Python commands to print a specified list after removing the 0th, 2th, 3th, and 5th element. Test your statements on list `l` as defined below."
   ]
  },
  {
   "cell_type": "code",
   "execution_count": 6,
   "metadata": {
    "id": "nasnMpv0AhsG"
   },
   "outputs": [
    {
     "name": "stdout",
     "output_type": "stream",
     "text": [
      "['Happy', 'mYstEriOUs', 'BROOMSTICK', 'Halloween', 'Poltergeist']\n",
      "['Happy', 'BROOMSTICK', 'Halloween', 'Poltergeist']\n",
      "['Happy', 'Halloween', 'Poltergeist']\n",
      "['Happy', 'Halloween']\n"
     ]
    }
   ],
   "source": [
    "l = ['BROOMSTICK', 'Happy', 'mYstEriOUs', 'BROOMSTICK', 'Halloween', 'Poltergeist']\n",
    "\n",
    "# ***************************************************\n",
    "# INSERT YOUR SOLUTION CODE HERE\n",
    "# ***************************************************\n",
    "\n",
    "l.pop(0)\n",
    "print(l)\n",
    "l.pop(1)\n",
    "print(l)\n",
    "l.pop(1)\n",
    "print(l)\n",
    "l.pop(2)\n",
    "print(l)"
   ]
  },
  {
   "cell_type": "markdown",
   "metadata": {
    "id": "jWmS6obEAhsL"
   },
   "source": [
    "## Fundamental Programming Structures"
   ]
  },
  {
   "cell_type": "markdown",
   "metadata": {
    "id": "ray7ID4qAhsL"
   },
   "source": [
    "**1. Write a Python loop that multiplies all elements of a list with 66.**\n",
    "\n",
    "> Write a Python loop that multiplies all elements of a list with `66`. The input list is given by `range(0, 10)` and its output should result in a list as denoted by: `[0, 66, 132, 198, 264, 330, 396, 462, 528, 594]`."
   ]
  },
  {
   "cell_type": "code",
   "execution_count": 7,
   "metadata": {
    "id": "iMayg5s5AhsL"
   },
   "outputs": [
    {
     "name": "stdout",
     "output_type": "stream",
     "text": [
      "[0, 66, 132, 198, 264, 330, 396, 462, 528, 594]\n"
     ]
    }
   ],
   "source": [
    "# ***************************************************\n",
    "# INSERT YOUR SOLUTION CODE HERE\n",
    "# ***************************************************\n",
    "\n",
    "new_list = []\n",
    "\n",
    "for element in range(0, 10):\n",
    "    \n",
    "    element = element * 66\n",
    "    \n",
    "    new_list.append(element)\n",
    "    \n",
    "print(new_list)"
   ]
  },
  {
   "cell_type": "markdown",
   "metadata": {
    "id": "tB019NXuAhsL"
   },
   "source": [
    "**2. Write a Python loop that prints the numbers 1 to 10 backwards.**\n",
    "\n",
    "> Write a Python loop that prints the numbers 0 to 10 backwards. The output of the loop should print the following: `10, 9, 8, 7, 6, 5, 4, 3, 2, 1, 0`."
   ]
  },
  {
   "cell_type": "code",
   "execution_count": 8,
   "metadata": {
    "id": "1D7IJEGjAhsL"
   },
   "outputs": [
    {
     "name": "stdout",
     "output_type": "stream",
     "text": [
      "10\n",
      "9\n",
      "8\n",
      "7\n",
      "6\n",
      "5\n",
      "4\n",
      "3\n",
      "2\n",
      "1\n",
      "0\n"
     ]
    }
   ],
   "source": [
    "# ***************************************************\n",
    "# INSERT YOUR SOLUTION CODE HERE\n",
    "# ***************************************************\n",
    "\n",
    "for i in range(0, 11):\n",
    "    \n",
    "    print(10 - i)"
   ]
  },
  {
   "cell_type": "markdown",
   "metadata": {
    "id": "kZ3hue_mAhsM"
   },
   "source": [
    "**3. Write a Python decision structure that prints all the numbers from 0 to 6 except 4 and 7.**\n",
    "\n",
    "> Write a Python decision structure that prints a number if it doesn't equal to 4 and 7. If the number equals 4 or 7 it should print 'forbidden number'."
   ]
  },
  {
   "cell_type": "code",
   "execution_count": 9,
   "metadata": {
    "id": "warjcIleAhsM"
   },
   "outputs": [
    {
     "name": "stdout",
     "output_type": "stream",
     "text": [
      "forbidden number\n"
     ]
    }
   ],
   "source": [
    "# ***************************************************\n",
    "# INSERT YOUR SOLUTION CODE HERE\n",
    "# ***************************************************\n",
    "\n",
    "number = 4\n",
    "\n",
    "if number == 4 or number==7:\n",
    "    print('forbidden number')\n",
    "\n",
    "else:\n",
    "    print(number)"
   ]
  },
  {
   "cell_type": "markdown",
   "metadata": {
    "id": "0Vt-agbKAhsM"
   },
   "source": [
    "**4. Write a Python decision structure that evaluates if a number is a multiple of 5 and 7.**\n",
    "\n",
    "> Write a Python decision structure that evaluates if number is a multiple of 5 and 7. Hint: You may want to use Python's modulo operator (`%`) as part of your case evaluation."
   ]
  },
  {
   "cell_type": "code",
   "execution_count": 10,
   "metadata": {
    "id": "afbCNrCzAhsM"
   },
   "outputs": [
    {
     "name": "stdout",
     "output_type": "stream",
     "text": [
      "Jackpot! 35 is a multiple of both 5 and 7!\n"
     ]
    }
   ],
   "source": [
    "# ***************************************************\n",
    "# INSERT YOUR SOLUTION CODE HERE\n",
    "# ***************************************************\n",
    "\n",
    "number = 35\n",
    "\n",
    "if number % 5 == 0 and number % 7 == 0:\n",
    "    print('Jackpot! {} is a multiple of both 5 and 7!'.format(number))\n",
    "    \n",
    "else:\n",
    "    print('This number is not a multiple >:(')"
   ]
  },
  {
   "cell_type": "markdown",
   "metadata": {
    "id": "ZfyDnbbSAhsN"
   },
   "source": [
    "## Functions"
   ]
  },
  {
   "cell_type": "markdown",
   "metadata": {
    "id": "IAiJdiumAhsN"
   },
   "source": [
    "**1. Write a Python function to calculate the length of a string.**\n",
    "\n",
    ">Write a Python function named **\"string_length\"** to calculate the length of an arbitrary string. The function should take an arbitrary string as input and count the number of its characters. Test your function accordingly using various string values and print the results, e.g., input: 'Halloween', expected result: 9."
   ]
  },
  {
   "cell_type": "code",
   "execution_count": 11,
   "metadata": {
    "id": "PGLED_L4AhsN"
   },
   "outputs": [
    {
     "name": "stdout",
     "output_type": "stream",
     "text": [
      "String length = 9\n"
     ]
    }
   ],
   "source": [
    "# ***************************************************\n",
    "# INSERT YOUR SOLUTION CODE HERE\n",
    "# ***************************************************\n",
    "\n",
    "def string_length(string):\n",
    "\n",
    "  string_length = len(string)\n",
    "\n",
    "  print('String length =', string_length)\n",
    "\n",
    "string_length('Halloween')"
   ]
  },
  {
   "cell_type": "markdown",
   "metadata": {
    "id": "OzCZMOjcAhsN"
   },
   "source": [
    "**2. Write a Python program to get the largest number from a list.**\n",
    "\n",
    ">Write a Python function named **\"max_num_in_list\"** to get the largest number from a list. The function should take an arbitrary list of integer values as an input and should return the integer that corresponds to the highest value. Test your function accordingly using various string values and print the results, e.g., input: [1, 5, 8, 3], expected result: 8."
   ]
  },
  {
   "cell_type": "code",
   "execution_count": 12,
   "metadata": {
    "id": "DoeLXe7VAhsN"
   },
   "outputs": [
    {
     "name": "stdout",
     "output_type": "stream",
     "text": [
      "Max number = 8\n"
     ]
    }
   ],
   "source": [
    "# ***************************************************\n",
    "# INSERT YOUR SOLUTION CODE HERE\n",
    "# ***************************************************\n",
    "\n",
    "def max_num_in_list(l):\n",
    "    \n",
    "  max_num = max(l)\n",
    "\n",
    "  print('Max number =', max_num)\n",
    "\n",
    "test_list = [1, 5, 8, 3]\n",
    "\n",
    "max_num_in_list(test_list)"
   ]
  },
  {
   "cell_type": "markdown",
   "metadata": {
    "id": "uJTHxzw5AhsN"
   },
   "source": [
    "**3. Write a Python program to count the number of characters (character frequency) in a string.**\n",
    "\n",
    ">Write a Python function named **\"char_frequency\"** to count the number of distinct characters occurring in it. The function should take an arbitrary string as an input and should return the count of occurrence each individual character. Test your function accordingly using various string values and print the results, e.g., input: 'Happy Halllllloweeeeeen!', expected result: {'a': 2, ' ': 1, 'e': 6, 'H': 2, 'l': 6, 'o': 1, 'n': 1, 'p': 2, '!': 1, 'w': 1, 'y': 1}."
   ]
  },
  {
   "cell_type": "code",
   "execution_count": 13,
   "metadata": {
    "id": "4en4UDL-AhsN"
   },
   "outputs": [
    {
     "name": "stdout",
     "output_type": "stream",
     "text": [
      "{'H': 2, 'a': 2, 'p': 2, 'y': 1, ' ': 1, 'l': 6, 'o': 1, 'w': 1, 'e': 6, 'n': 1, '!': 1}\n",
      "{'T': 1, 'o': 3, 'd': 3, 'a': 3, 'y': 4, ' ': 9, 'i': 3, 's': 3, 't': 4, 'h': 2, 'e': 3, 'f': 2, 'r': 2, 'n': 2, 'w': 2, '!': 1}\n"
     ]
    }
   ],
   "source": [
    "# ***************************************************\n",
    "# INSERT YOUR SOLUTION CODE HERE\n",
    "# ***************************************************\n",
    "\n",
    "def char_frequency(string):\n",
    "    \n",
    "    char_frequencies = {}\n",
    "    \n",
    "    for i in string:\n",
    "        \n",
    "        if i in char_frequencies:\n",
    "            \n",
    "            char_frequencies[i] += 1\n",
    "        \n",
    "        else:\n",
    "\n",
    "            char_frequencies[i] = 1\n",
    "\n",
    "    print(char_frequencies)\n",
    "\n",
    "char_frequency('Happy Halllllloweeeeeen!')\n",
    "char_frequency('Today day is the first snowy day of the winter!')"
   ]
  },
  {
   "cell_type": "markdown",
   "metadata": {
    "id": "wh5-01kFAhsN"
   },
   "source": [
    "**4. Write a Python function that takes a list of words and returns the one exhibiting the most characters.**\n",
    "\n",
    ">Write a Python function named **find_longest_word** that takes a list of words and returns the length of the longest word in the list. The function should take an arbitrary list of string values (words) as an input and should return the word that exhibits the most characters. Test your function accordingly using various lists of string values and print the results, e.g., input: ['Happy', 'Halloween', '2018'], expected result: 'Halloween'."
   ]
  },
  {
   "cell_type": "code",
   "execution_count": 14,
   "metadata": {
    "id": "o0P6m0pTAhsN"
   },
   "outputs": [
    {
     "name": "stdout",
     "output_type": "stream",
     "text": [
      "Halloween\n"
     ]
    }
   ],
   "source": [
    "# ***************************************************\n",
    "# INSERT YOUR SOLUTION CODE HERE\n",
    "# ***************************************************\n",
    "\n",
    "def find_longest_word(words):\n",
    "    \n",
    "    longest_word = ''\n",
    "  \n",
    "    for w in words:\n",
    "        \n",
    "        if len(w) > len(longest_word):\n",
    "            \n",
    "            longest_word = w\n",
    "    \n",
    "    print(longest_word)\n",
    "\n",
    "find_longest_word(['Happy', 'Halloween', '2018'])"
   ]
  }
 ],
 "metadata": {
  "kernelspec": {
   "display_name": "Python 3",
   "language": "python",
   "name": "python3"
  },
  "language_info": {
   "codemirror_mode": {
    "name": "ipython",
    "version": 3
   },
   "file_extension": ".py",
   "mimetype": "text/x-python",
   "name": "python",
   "nbconvert_exporter": "python",
   "pygments_lexer": "ipython3",
   "version": "3.7.9"
  },
  "toc": {
   "base_numbering": 1,
   "nav_menu": {},
   "number_sections": false,
   "sideBar": true,
   "skip_h1_title": false,
   "title_cell": "Table of Contents",
   "title_sidebar": "Contents",
   "toc_cell": false,
   "toc_position": {},
   "toc_section_display": true,
   "toc_window_display": false
  }
 },
 "nbformat": 4,
 "nbformat_minor": 4
}
