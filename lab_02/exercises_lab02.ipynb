{
 "cells": [
  {
   "cell_type": "markdown",
   "metadata": {},
   "source": [
    "<img align=\"right\" style=\"max-width: 200px; height: auto\" src=\"https://github.com/HSG-AIML/LabMLDL/blob/main/lab_02/hsg_logo.png\">\n",
    "\n",
    "###  Fundamentals of Python Programming: Data Types and Containers\n",
    "\n",
    "Introduction to ML and DL, University of St. Gallen, Fall Term 2021"
   ]
  },
  {
   "cell_type": "markdown",
   "metadata": {},
   "source": [
    "The goal of the exercises below is to deepen your understanding of the Python language. In this Notebook, exercises are focused on our Python 102 Notebook. Feel free to use that Notebook as a reference, to search for help online, and to work together with others. If you have questions, please feel free to shout out!\n",
    "\n",
    "You don't have to work on these exercises in any specific order or finish them at all. "
   ]
  },
  {
   "cell_type": "markdown",
   "metadata": {
    "id": "R0wm1bZgAhsJ"
   },
   "source": [
    "## Numpy Arrays"
   ]
  },
  {
   "cell_type": "code",
   "execution_count": null,
   "metadata": {},
   "outputs": [],
   "source": [
    "import numpy as np  # run this cell before starting with the exercises below"
   ]
  },
  {
   "cell_type": "markdown",
   "metadata": {
    "id": "OQAm8_ZtAhsJ"
   },
   "source": [
    "**1. Write a single) Python command that adds `3` to every element of array `a`.**"
   ]
  },
  {
   "cell_type": "code",
   "execution_count": null,
   "metadata": {
    "id": "gwkVym0kAhsJ"
   },
   "outputs": [],
   "source": [
    "a = np.array([1, 2, 3, 4, 5])\n",
    "\n",
    "# ***************************************************\n",
    "# INSERT YOUR SOLUTION CODE HERE\n",
    "# ***************************************************"
   ]
  },
  {
   "cell_type": "markdown",
   "metadata": {
    "id": "LZYEYTeqAhsJ"
   },
   "source": [
    "**2. Write a single Python command that creates a 2d-array that looks like the following matrix:**\n",
    "\n",
    "    1 0 0 \n",
    "    0 1 0\n",
    "    0 0 1\n",
    "    \n",
    "> Hint: you can use `np.array(l)` where `l` is a list to create the matrix. What would `l` look like?"
   ]
  },
  {
   "cell_type": "code",
   "execution_count": null,
   "metadata": {
    "id": "-zLwrMQQAhsJ"
   },
   "outputs": [],
   "source": [
    "# ***************************************************\n",
    "# INSERT YOUR SOLUTION CODE HERE\n",
    "# ***************************************************"
   ]
  },
  {
   "cell_type": "markdown",
   "metadata": {},
   "source": [
    "**3. Reshape a vector into a matrix.**\n",
    "> Create a 1-dimensional array `a` with length 16 that contains the sequence of numbers (integer or floats are fine) from 1 to 16 and reshape it into a 4x4 matrix. Hint: keep in mind that the functions `np.arange` and `reshape` exist..."
   ]
  },
  {
   "cell_type": "code",
   "execution_count": null,
   "metadata": {},
   "outputs": [],
   "source": [
    "# ***************************************************\n",
    "# INSERT YOUR SOLUTION CODE HERE\n",
    "# ***************************************************"
   ]
  },
  {
   "cell_type": "markdown",
   "metadata": {},
   "source": [
    "## Dealing with Image Data"
   ]
  },
  {
   "cell_type": "code",
   "execution_count": null,
   "metadata": {},
   "outputs": [],
   "source": [
    "# run this cell before starting with the exercises below\n",
    "import matplotlib.pyplot as plt\n",
    "from PIL import Image\n",
    "from urllib.request import urlopen  \n",
    "image = np.asarray(Image.open(urlopen(\"https://upload.wikimedia.org/wikipedia/commons/thumb/0/0e/Trogenerbahn.jpg/1920px-Trogenerbahn.jpg\")))"
   ]
  },
  {
   "cell_type": "markdown",
   "metadata": {},
   "source": [
    "**1. Plotting Image Data**\n",
    "\n",
    "> Display `image` using `plot.imshow`. Then, define a second image array, `crop`, that will roughly crop the tram. Keep in mind that the dimensionality of images is `[rows, columns, channels]`. Display `crop`."
   ]
  },
  {
   "cell_type": "code",
   "execution_count": null,
   "metadata": {},
   "outputs": [],
   "source": [
    "# ***************************************************\n",
    "# INSERT YOUR SOLUTION CODE HERE\n",
    "# ***************************************************"
   ]
  },
  {
   "cell_type": "markdown",
   "metadata": {},
   "source": [
    "**2. Manipulating Image Data**\n",
    "\n",
    "> The tram in the image is red. Modify the image in such a way that the tram appears green instead. Be creative! Never mind if background objects appear in unnatural colors."
   ]
  },
  {
   "cell_type": "code",
   "execution_count": null,
   "metadata": {},
   "outputs": [],
   "source": [
    "# ***************************************************\n",
    "# INSERT YOUR SOLUTION CODE HERE\n",
    "# ***************************************************"
   ]
  },
  {
   "cell_type": "code",
   "execution_count": null,
   "metadata": {},
   "outputs": [],
   "source": []
  }
 ],
 "metadata": {
  "kernelspec": {
   "display_name": "Python 3",
   "language": "python",
   "name": "python3"
  },
  "language_info": {
   "codemirror_mode": {
    "name": "ipython",
    "version": 3
   },
   "file_extension": ".py",
   "mimetype": "text/x-python",
   "name": "python",
   "nbconvert_exporter": "python",
   "pygments_lexer": "ipython3",
   "version": "3.7.9"
  }
 },
 "nbformat": 4,
 "nbformat_minor": 4
}
